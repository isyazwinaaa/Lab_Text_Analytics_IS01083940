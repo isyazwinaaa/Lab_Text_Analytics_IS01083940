{
 "cells": [
  {
   "cell_type": "code",
   "execution_count": 1,
   "id": "c2a41911-e341-4951-8fb4-f2f933a39eaa",
   "metadata": {},
   "outputs": [
    {
     "name": "stdout",
     "output_type": "stream",
     "text": [
      "Requirement already satisfied: selenium in c:\\users\\skylevender\\anaconda3\\lib\\site-packages (4.29.0)\n",
      "Requirement already satisfied: pandas in c:\\users\\skylevender\\anaconda3\\lib\\site-packages (2.2.2)\n",
      "Requirement already satisfied: urllib3<3,>=1.26 in c:\\users\\skylevender\\anaconda3\\lib\\site-packages (from urllib3[socks]<3,>=1.26->selenium) (2.2.3)\n",
      "Requirement already satisfied: trio~=0.17 in c:\\users\\skylevender\\anaconda3\\lib\\site-packages (from selenium) (0.29.0)\n",
      "Requirement already satisfied: trio-websocket~=0.9 in c:\\users\\skylevender\\anaconda3\\lib\\site-packages (from selenium) (0.12.2)\n",
      "Requirement already satisfied: certifi>=2021.10.8 in c:\\users\\skylevender\\anaconda3\\lib\\site-packages (from selenium) (2024.8.30)\n",
      "Requirement already satisfied: typing_extensions~=4.9 in c:\\users\\skylevender\\anaconda3\\lib\\site-packages (from selenium) (4.11.0)\n",
      "Requirement already satisfied: websocket-client~=1.8 in c:\\users\\skylevender\\anaconda3\\lib\\site-packages (from selenium) (1.8.0)\n",
      "Requirement already satisfied: numpy>=1.26.0 in c:\\users\\skylevender\\anaconda3\\lib\\site-packages (from pandas) (1.26.4)\n",
      "Requirement already satisfied: python-dateutil>=2.8.2 in c:\\users\\skylevender\\anaconda3\\lib\\site-packages (from pandas) (2.9.0.post0)\n",
      "Requirement already satisfied: pytz>=2020.1 in c:\\users\\skylevender\\anaconda3\\lib\\site-packages (from pandas) (2024.1)\n",
      "Requirement already satisfied: tzdata>=2022.7 in c:\\users\\skylevender\\anaconda3\\lib\\site-packages (from pandas) (2023.3)\n",
      "Requirement already satisfied: six>=1.5 in c:\\users\\skylevender\\anaconda3\\lib\\site-packages (from python-dateutil>=2.8.2->pandas) (1.16.0)\n",
      "Requirement already satisfied: attrs>=23.2.0 in c:\\users\\skylevender\\anaconda3\\lib\\site-packages (from trio~=0.17->selenium) (25.3.0)\n",
      "Requirement already satisfied: sortedcontainers in c:\\users\\skylevender\\anaconda3\\lib\\site-packages (from trio~=0.17->selenium) (2.4.0)\n",
      "Requirement already satisfied: idna in c:\\users\\skylevender\\anaconda3\\lib\\site-packages (from trio~=0.17->selenium) (3.7)\n",
      "Requirement already satisfied: outcome in c:\\users\\skylevender\\anaconda3\\lib\\site-packages (from trio~=0.17->selenium) (1.3.0.post0)\n",
      "Requirement already satisfied: sniffio>=1.3.0 in c:\\users\\skylevender\\anaconda3\\lib\\site-packages (from trio~=0.17->selenium) (1.3.0)\n",
      "Requirement already satisfied: cffi>=1.14 in c:\\users\\skylevender\\anaconda3\\lib\\site-packages (from trio~=0.17->selenium) (1.17.1)\n",
      "Requirement already satisfied: wsproto>=0.14 in c:\\users\\skylevender\\anaconda3\\lib\\site-packages (from trio-websocket~=0.9->selenium) (1.2.0)\n",
      "Requirement already satisfied: pysocks!=1.5.7,<2.0,>=1.5.6 in c:\\users\\skylevender\\anaconda3\\lib\\site-packages (from urllib3[socks]<3,>=1.26->selenium) (1.7.1)\n",
      "Requirement already satisfied: pycparser in c:\\users\\skylevender\\anaconda3\\lib\\site-packages (from cffi>=1.14->trio~=0.17->selenium) (2.21)\n",
      "Requirement already satisfied: h11<1,>=0.9.0 in c:\\users\\skylevender\\anaconda3\\lib\\site-packages (from wsproto>=0.14->trio-websocket~=0.9->selenium) (0.14.0)\n",
      "Note: you may need to restart the kernel to use updated packages.\n"
     ]
    }
   ],
   "source": [
    "pip install selenium pandas"
   ]
  },
  {
   "cell_type": "code",
   "execution_count": 7,
   "id": "df260a33-c762-40ef-8d61-f3d13ab3264a",
   "metadata": {},
   "outputs": [
    {
     "name": "stdout",
     "output_type": "stream",
     "text": [
      "Scraping page 1...\n",
      "Scraping page 2...\n",
      "Scraping page 3...\n",
      "Scraping page 4...\n",
      "Scraping page 5...\n",
      "Reviews saved successfully to AMAZON_REVIEW.csv\n"
     ]
    }
   ],
   "source": [
    "# Name and ID (Section 02) Text Analytics CISB5123 \n",
    "# Devendran a/l Pathamanathan(SW01083554)\n",
    "# Ishamie Syazwina binti Mohd Fauzi (IS01083940)\n",
    "\n",
    "# Import necessary libraries\n",
    "from selenium import webdriver\n",
    "from selenium.webdriver.edge.service import Service\n",
    "from selenium.webdriver.common.by import By\n",
    "from selenium.webdriver.support.ui import WebDriverWait\n",
    "from selenium.webdriver.support import expected_conditions as EC\n",
    "import pandas as pd\n",
    "import time\n",
    "\n",
    "# Set the path to EdgeDriver (update this path)\n",
    "edge_driver_path = r\"C:\\Users\\Skylevender\\Desktop\\test\\msedgedriver.exe\"\n",
    "\n",
    "# Initialize Edge WebDriver\n",
    "service = Service(edge_driver_path)\n",
    "driver = webdriver.Edge(service=service)\n",
    "wait = WebDriverWait(driver, 10)\n",
    "\n",
    "# Amazon product URL\n",
    "product_url = \"https://www.amazon.com/product-reviews/B0D86FVG5R/ref=cm_cr_dp_d_show_all_btm?ie=UTF8&reviewerType=all_reviews\"\n",
    "driver.get(product_url)\n",
    "time.sleep(5)  # Wait for the page to load\n",
    "\n",
    "def extract_reviews():\n",
    "    reviews = []\n",
    "    \n",
    "    try:\n",
    "        review_blocks = wait.until(EC.presence_of_all_elements_located(\n",
    "            (By.CSS_SELECTOR, '.review')))\n",
    "        \n",
    "        for block in review_blocks:\n",
    "            try:\n",
    "                reviewer_name = block.find_element(By.CSS_SELECTOR, '.a-profile-name').text.strip()\n",
    "                review_date = block.find_element(By.CSS_SELECTOR, '.review-date').text.strip()\n",
    "                review_content = block.find_element(By.CSS_SELECTOR, '.review-text-content span').text.strip()\n",
    "\n",
    "                reviews.append({\n",
    "                    'Reviewer Name': reviewer_name,\n",
    "                    'Review Date': review_date,\n",
    "                    'Review Content': review_content\n",
    "                })\n",
    "            except Exception as e:\n",
    "                print(\"Error extracting a review:\", e)\n",
    "                continue  # Skip problematic reviews\n",
    "                \n",
    "    except Exception as e:\n",
    "        print(\"Error loading reviews:\", e)\n",
    "    \n",
    "    return reviews\n",
    "\n",
    "# Initialize the list before using it\n",
    "all_reviews = []\n",
    "\n",
    "# Scrape reviews from multiple pages\n",
    "for page in range(1, 6):  # Adjust the range as needed\n",
    "    print(f\"Scraping page {page}...\")\n",
    "    all_reviews.extend(extract_reviews())  # Now all_reviews is defined\n",
    "    try:\n",
    "        next_button = wait.until(EC.element_to_be_clickable(\n",
    "            (By.XPATH, \"//a[contains(text(), 'Next page')]\")))  # Adjusted for new button\n",
    "        driver.execute_script(\"arguments[0].click();\", next_button)\n",
    "        time.sleep(5)  # Wait for next page to load\n",
    "    except Exception:\n",
    "        print(\"No more pages or 'Next page' button not found.\")\n",
    "        break  # Stop if there's no \"Next page\" button\n",
    "\n",
    "# Convert to DataFrame\n",
    "df_reviews = pd.DataFrame(all_reviews)\n",
    "\n",
    "# Save to CSV\n",
    "df_reviews.to_csv('AMAZON_REVIEW.csv', index=False)\n",
    "\n",
    "print(\"Reviews saved successfully to AMAZON_REVIEW.csv\")\n",
    "\n",
    "# Close the browser\n",
    "driver.quit()\n"
   ]
  }
 ],
 "metadata": {
  "kernelspec": {
   "display_name": "Python 3 (ipykernel)",
   "language": "python",
   "name": "python3"
  },
  "language_info": {
   "codemirror_mode": {
    "name": "ipython",
    "version": 3
   },
   "file_extension": ".py",
   "mimetype": "text/x-python",
   "name": "python",
   "nbconvert_exporter": "python",
   "pygments_lexer": "ipython3",
   "version": "3.12.7"
  }
 },
 "nbformat": 4,
 "nbformat_minor": 5
}
