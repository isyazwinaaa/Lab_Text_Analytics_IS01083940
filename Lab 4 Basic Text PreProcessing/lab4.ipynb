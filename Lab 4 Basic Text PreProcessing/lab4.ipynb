{
 "cells": [
  {
   "cell_type": "code",
   "execution_count": 1,
   "id": "327a2946-044e-4279-9fb2-4ac2d52e8c03",
   "metadata": {},
   "outputs": [
    {
     "name": "stdout",
     "output_type": "stream",
     "text": [
      "Collecting emoji\n",
      "  Downloading emoji-2.14.1-py3-none-any.whl.metadata (5.7 kB)\n",
      "Downloading emoji-2.14.1-py3-none-any.whl (590 kB)\n",
      "   ---------------------------------------- 0.0/590.6 kB ? eta -:--:--\n",
      "   ---------------------------------------- 590.6/590.6 kB 4.2 MB/s eta 0:00:00\n",
      "Installing collected packages: emoji\n",
      "Successfully installed emoji-2.14.1\n",
      "Note: you may need to restart the kernel to use updated packages.\n"
     ]
    }
   ],
   "source": [
    "pip install emoji"
   ]
  },
  {
   "cell_type": "code",
   "execution_count": 4,
   "id": "758d2a8a-9869-4e1d-ae7d-02b185c1d94d",
   "metadata": {},
   "outputs": [
    {
     "name": "stdout",
     "output_type": "stream",
     "text": [
      "Requirement already satisfied: autocorrect in c:\\users\\isyaz\\anaconda3\\lib\\site-packages (2.6.1)\n",
      "Note: you may need to restart the kernel to use updated packages.\n"
     ]
    }
   ],
   "source": [
    "pip install autocorrect"
   ]
  },
  {
   "cell_type": "code",
   "execution_count": 5,
   "id": "19d8d913-00a9-443c-9818-8646f10287af",
   "metadata": {},
   "outputs": [
    {
     "name": "stdout",
     "output_type": "stream",
     "text": [
      "                                                                           Review  \\\n",
      "0   The product arrived on time. Packaging was great, and the quality is amazing!   \n",
      "1                                        THIS PRODUCT IS JUST AMAZING! I LOVE IT.   \n",
      "2     I bought this phone for $799, and it has a 120Hz display. Totally worth it!   \n",
      "3                         Wow!!! This product is awesome... but a bit expensive??   \n",
      "4                                             The laptop works perfectly fine.      \n",
      "5    Check out the full product details here: https://example.com/product-details   \n",
      "6         <div><h2>Great Purchase!</h2><p>I am happy with this product.</p></div>   \n",
      "7                The battry life is excelent, but the chargin cable is too short.   \n",
      "8                       I can't believe it's so good! Didn't expect such quality.   \n",
      "9                   Love this product! ???? Fast delivery ??, amazing quality! ??   \n",
      "10                       TBH, I wasn't expecting much, but OMG, this is awesome!!   \n",
      "11                          This is the best product I have ever used in my life!   \n",
      "12  The shoes were comfortable, fitting nicely, and worked perfectly for jogging.   \n",
      "\n",
      "    Lowecase conversion  Removal of URLs  Removal of HTML tags  \\\n",
      "0                   NaN              NaN                   NaN   \n",
      "1                   NaN              NaN                   NaN   \n",
      "2                   NaN              NaN                   NaN   \n",
      "3                   NaN              NaN                   NaN   \n",
      "4                   NaN              NaN                   NaN   \n",
      "5                   NaN              NaN                   NaN   \n",
      "6                   NaN              NaN                   NaN   \n",
      "7                   NaN              NaN                   NaN   \n",
      "8                   NaN              NaN                   NaN   \n",
      "9                   NaN              NaN                   NaN   \n",
      "10                  NaN              NaN                   NaN   \n",
      "11                  NaN              NaN                   NaN   \n",
      "12                  NaN              NaN                   NaN   \n",
      "\n",
      "    Removal of emojis  Replace internet slang/chat words  \\\n",
      "0                 NaN                                NaN   \n",
      "1                 NaN                                NaN   \n",
      "2                 NaN                                NaN   \n",
      "3                 NaN                                NaN   \n",
      "4                 NaN                                NaN   \n",
      "5                 NaN                                NaN   \n",
      "6                 NaN                                NaN   \n",
      "7                 NaN                                NaN   \n",
      "8                 NaN                                NaN   \n",
      "9                 NaN                                NaN   \n",
      "10                NaN                                NaN   \n",
      "11                NaN                                NaN   \n",
      "12                NaN                                NaN   \n",
      "\n",
      "    Replace shortened English words  Handle spelling mistakes  \\\n",
      "0                               NaN                       NaN   \n",
      "1                               NaN                       NaN   \n",
      "2                               NaN                       NaN   \n",
      "3                               NaN                       NaN   \n",
      "4                               NaN                       NaN   \n",
      "5                               NaN                       NaN   \n",
      "6                               NaN                       NaN   \n",
      "7                               NaN                       NaN   \n",
      "8                               NaN                       NaN   \n",
      "9                               NaN                       NaN   \n",
      "10                              NaN                       NaN   \n",
      "11                              NaN                       NaN   \n",
      "12                              NaN                       NaN   \n",
      "\n",
      "    Remove punctuations  Remove special characters  Remove numbers  \\\n",
      "0                   NaN                        NaN             NaN   \n",
      "1                   NaN                        NaN             NaN   \n",
      "2                   NaN                        NaN             NaN   \n",
      "3                   NaN                        NaN             NaN   \n",
      "4                   NaN                        NaN             NaN   \n",
      "5                   NaN                        NaN             NaN   \n",
      "6                   NaN                        NaN             NaN   \n",
      "7                   NaN                        NaN             NaN   \n",
      "8                   NaN                        NaN             NaN   \n",
      "9                   NaN                        NaN             NaN   \n",
      "10                  NaN                        NaN             NaN   \n",
      "11                  NaN                        NaN             NaN   \n",
      "12                  NaN                        NaN             NaN   \n",
      "\n",
      "    Remove whitespaces  Remove stopwords  Tokenization  Stemming  \\\n",
      "0                  NaN               NaN           NaN       NaN   \n",
      "1                  NaN               NaN           NaN       NaN   \n",
      "2                  NaN               NaN           NaN       NaN   \n",
      "3                  NaN               NaN           NaN       NaN   \n",
      "4                  NaN               NaN           NaN       NaN   \n",
      "5                  NaN               NaN           NaN       NaN   \n",
      "6                  NaN               NaN           NaN       NaN   \n",
      "7                  NaN               NaN           NaN       NaN   \n",
      "8                  NaN               NaN           NaN       NaN   \n",
      "9                  NaN               NaN           NaN       NaN   \n",
      "10                 NaN               NaN           NaN       NaN   \n",
      "11                 NaN               NaN           NaN       NaN   \n",
      "12                 NaN               NaN           NaN       NaN   \n",
      "\n",
      "    Lemmatization  \n",
      "0             NaN  \n",
      "1             NaN  \n",
      "2             NaN  \n",
      "3             NaN  \n",
      "4             NaN  \n",
      "5             NaN  \n",
      "6             NaN  \n",
      "7             NaN  \n",
      "8             NaN  \n",
      "9             NaN  \n",
      "10            NaN  \n",
      "11            NaN  \n",
      "12            NaN  \n"
     ]
    }
   ],
   "source": [
    "import pandas as pd \n",
    "file_path = \"Review.csv\" \n",
    "df = pd.read_csv(file_path)  \n",
    "pd.set_option('display.max_colwidth', None) \n",
    "print(df)"
   ]
  },
  {
   "cell_type": "code",
   "execution_count": 8,
   "id": "9628c4b5-91dc-4383-85da-0e8b81ff02bd",
   "metadata": {},
   "outputs": [
    {
     "name": "stdout",
     "output_type": "stream",
     "text": [
      "0     the product arrived on time. packaging was great, and the quality is amazing!\n",
      "1                                          this product is just amazing! i love it.\n",
      "2       i bought this phone for $799, and it has a 120hz display. totally worth it!\n",
      "3                           wow!!! this product is awesome... but a bit expensive??\n",
      "4                                               the laptop works perfectly fine.   \n",
      "5      check out the full product details here: https://example.com/product-details\n",
      "6           <div><h2>great purchase!</h2><p>i am happy with this product.</p></div>\n",
      "7                  the battry life is excelent, but the chargin cable is too short.\n",
      "8                         i can't believe it's so good! didn't expect such quality.\n",
      "9                     love this product! ???? fast delivery ??, amazing quality! ??\n",
      "10                         tbh, i wasn't expecting much, but omg, this is awesome!!\n",
      "11                            this is the best product i have ever used in my life!\n",
      "12    the shoes were comfortable, fitting nicely, and worked perfectly for jogging.\n",
      "Name: lowercased, dtype: object\n"
     ]
    }
   ],
   "source": [
    "# Lowercase conversion \n",
    "def convert_to_lowercase(text): \n",
    "    return text.lower() \n",
    "df[\"lowercased\"] = df[\"Review\"].apply(convert_to_lowercase) \n",
    "# Display column content without truncation \n",
    "pd.set_option('display.max_colwidth', None)  # Set to None for unlimited width \n",
    "print(df[\"lowercased\"])"
   ]
  },
  {
   "cell_type": "code",
   "execution_count": 10,
   "id": "e2b4abf7-740f-4bca-9689-c8d1167d43e4",
   "metadata": {},
   "outputs": [
    {
     "name": "stdout",
     "output_type": "stream",
     "text": [
      "0     the product arrived on time. packaging was great, and the quality is amazing!\n",
      "1                                          this product is just amazing! i love it.\n",
      "2       i bought this phone for $799, and it has a 120hz display. totally worth it!\n",
      "3                           wow!!! this product is awesome... but a bit expensive??\n",
      "4                                               the laptop works perfectly fine.   \n",
      "5                                         check out the full product details here: \n",
      "6           <div><h2>great purchase!</h2><p>i am happy with this product.</p></div>\n",
      "7                  the battry life is excelent, but the chargin cable is too short.\n",
      "8                         i can't believe it's so good! didn't expect such quality.\n",
      "9                     love this product! ???? fast delivery ??, amazing quality! ??\n",
      "10                         tbh, i wasn't expecting much, but omg, this is awesome!!\n",
      "11                            this is the best product i have ever used in my life!\n",
      "12    the shoes were comfortable, fitting nicely, and worked perfectly for jogging.\n",
      "Name: urls_removed, dtype: object\n"
     ]
    }
   ],
   "source": [
    "# Removal of URLs \n",
    "import re \n",
    "# remove any URLs that start with \"http\" or \"www\" from the text \n",
    "def remove_urls(text): \n",
    "    return re.sub(r'http\\S+|www\\S+', '', text)  \n",
    "df[\"urls_removed\"] = df[\"lowercased\"].apply(remove_urls) \n",
    "# Display column content without truncation \n",
    "pd.set_option('display.max_colwidth', None)  # Set to None for unlimited width \n",
    "print(df[\"urls_removed\"]) "
   ]
  },
  {
   "cell_type": "code",
   "execution_count": 12,
   "id": "8332bd00-2e72-45d2-987c-c174ebda8a37",
   "metadata": {},
   "outputs": [
    {
     "name": "stdout",
     "output_type": "stream",
     "text": [
      "0     the product arrived on time. packaging was great, and the quality is amazing!\n",
      "1                                          this product is just amazing! i love it.\n",
      "2       i bought this phone for $799, and it has a 120hz display. totally worth it!\n",
      "3                           wow!!! this product is awesome... but a bit expensive??\n",
      "4                                               the laptop works perfectly fine.   \n",
      "5                                         check out the full product details here: \n",
      "6                                      great purchase!i am happy with this product.\n",
      "7                  the battry life is excelent, but the chargin cable is too short.\n",
      "8                         i can't believe it's so good! didn't expect such quality.\n",
      "9                     love this product! ???? fast delivery ??, amazing quality! ??\n",
      "10                         tbh, i wasn't expecting much, but omg, this is awesome!!\n",
      "11                            this is the best product i have ever used in my life!\n",
      "12    the shoes were comfortable, fitting nicely, and worked perfectly for jogging.\n",
      "Name: html_removed, dtype: object\n"
     ]
    }
   ],
   "source": [
    "# Removal of HTML tags \n",
    "from bs4 import BeautifulSoup \n",
    "# extracts only the text, removing all HTML tags \n",
    "def remove_html_tags(text): \n",
    "    return BeautifulSoup(text, \"html.parser\").get_text() \n",
    "df[\"html_removed\"] = df[\"urls_removed\"].apply(remove_html_tags) \n",
    "# Display column content without truncation \n",
    "pd.set_option('display.max_colwidth', None)  # Set to None for unlimited width \n",
    "print(df[\"html_removed\"]) "
   ]
  },
  {
   "cell_type": "code",
   "execution_count": 14,
   "id": "0646d2e3-c51e-41e1-8cda-bc2cffc2531e",
   "metadata": {},
   "outputs": [
    {
     "name": "stdout",
     "output_type": "stream",
     "text": [
      "0     the product arrived on time. packaging was great, and the quality is amazing!\n",
      "1                                          this product is just amazing! i love it.\n",
      "2       i bought this phone for $799, and it has a 120hz display. totally worth it!\n",
      "3                           wow!!! this product is awesome... but a bit expensive??\n",
      "4                                               the laptop works perfectly fine.   \n",
      "5                                         check out the full product details here: \n",
      "6                                      great purchase!i am happy with this product.\n",
      "7                  the battry life is excelent, but the chargin cable is too short.\n",
      "8                         i can't believe it's so good! didn't expect such quality.\n",
      "9                     love this product! ???? fast delivery ??, amazing quality! ??\n",
      "10                         tbh, i wasn't expecting much, but omg, this is awesome!!\n",
      "11                            this is the best product i have ever used in my life!\n",
      "12    the shoes were comfortable, fitting nicely, and worked perfectly for jogging.\n",
      "Name: emojis_removed, dtype: object\n"
     ]
    }
   ],
   "source": [
    "# Removal of emojis (if any) \n",
    "import emoji \n",
    "# replace emoji with '' \n",
    "def remove_emojis(text): \n",
    "    return emoji.replace_emoji(text, replace='') \n",
    "df[\"emojis_removed\"] = df[\"html_removed\"].apply(remove_emojis) \n",
    "# Display column content without truncation \n",
    "pd.set_option('display.max_colwidth', None)  # Set to None for unlimited width \n",
    "print(df[\"emojis_removed\"])"
   ]
  },
  {
   "cell_type": "code",
   "execution_count": 16,
   "id": "0b1d9acc-df5e-44b7-af55-766eaddb72f2",
   "metadata": {},
   "outputs": [
    {
     "name": "stdout",
     "output_type": "stream",
     "text": [
      "0     the product arrived on time. packaging was great, and the quality is amazing!\n",
      "1                                          this product is just amazing! i love it.\n",
      "2       i bought this phone for $799, and it has a 120hz display. totally worth it!\n",
      "3                           wow!!! this product is awesome... but a bit expensive??\n",
      "4                                               the laptop works perfectly fine.   \n",
      "5                                         check out the full product details here: \n",
      "6                                      great purchase!i am happy with this product.\n",
      "7                  the battry life is excelent, but the chargin cable is too short.\n",
      "8                         i can't believe it's so good! didn't expect such quality.\n",
      "9                     love this product! ???? fast delivery ??, amazing quality! ??\n",
      "10          to be honest, i wasn't expecting much, but oh my god, this is awesome!!\n",
      "11                            this is the best product i have ever used in my life!\n",
      "12    the shoes were comfortable, fitting nicely, and worked perfectly for jogging.\n",
      "Name: slangs_replaced, dtype: object\n"
     ]
    }
   ],
   "source": [
    "# Replace internet slang/chat words \n",
    "# Dictionary of slang words and their replacements \n",
    "slang_dict = { \n",
    "    \"tbh\": \"to be honest\", \n",
    "    \"omg\": \"oh my god\", \n",
    "    \"lol\": \"laugh out loud\", \n",
    "    \"idk\": \"I don't know\", \n",
    "    \"brb\": \"be right back\", \n",
    "    \"btw\": \"by the way\", \n",
    "    \"imo\": \"in my opinion\", \n",
    "    \"smh\": \"shaking my head\", \n",
    "    \"fyi\": \"for your information\", \n",
    "    \"np\": \"no problem\", \n",
    "    \"ikr\": \"I know right\", \n",
    "    \"asap\": \"as soon as possible\", \n",
    "    \"bff\": \"best friend forever\", \n",
    "    \"gg\": \"good game\", \n",
    "    \"hmu\": \"hit me up\",\n",
    "    \"rofl\": \"rolling on the floor laughing\" \n",
    "}\n",
    "# Function to replace slang words \n",
    "def replace_slang(text): \n",
    "    # Create a list of escaped slang words \n",
    "    escaped_slang_words = []  # Empty list to store escaped slang words \n",
    " \n",
    "    for word in slang_dict.keys(): \n",
    "        escaped_word = re.escape(word)  # Ensure special characters are escaped \n",
    "        escaped_slang_words.append(escaped_word)  # Add to list \n",
    " \n",
    "    # Join the words using '|' \n",
    "    slang_pattern = r'\\b(' + '|'.join(escaped_slang_words) + r')\\b' \n",
    " \n",
    "    # Define a replacement function \n",
    "    def replace_match(match): \n",
    "        slang_word = match.group(0)  # Extract matched slang word \n",
    "        return slang_dict[slang_word.lower()]  # Replace with full form \n",
    " \n",
    "    # Use regex to replace slang words with full forms \n",
    "    replaced_text = re.sub(slang_pattern, replace_match, text, flags=re.IGNORECASE) \n",
    " \n",
    "    return replaced_text \n",
    " \n",
    " \n",
    "# Apply the function to the column \n",
    "df[\"slangs_replaced\"] = df[\"emojis_removed\"].apply(replace_slang) \n",
    " \n",
    "# Display column content without truncation \n",
    "pd.set_option('display.max_colwidth', None)  # Set to None for unlimited width \n",
    "print(df[\"slangs_replaced\"])"
   ]
  },
  {
   "cell_type": "code",
   "execution_count": 18,
   "id": "94533814-74ae-4551-b993-31273d6359c1",
   "metadata": {},
   "outputs": [
    {
     "name": "stdout",
     "output_type": "stream",
     "text": [
      "0     the product arrived on time. packaging was great, and the quality is amazing!\n",
      "1                                          this product is just amazing! i love it.\n",
      "2       i bought this phone for $799, and it has a 120hz display. totally worth it!\n",
      "3                           wow!!! this product is awesome... but a bit expensive??\n",
      "4                                               the laptop works perfectly fine.   \n",
      "5                                         check out the full product details here: \n",
      "6                                      great purchase!i am happy with this product.\n",
      "7                  the battry life is excelent, but the chargin cable is too short.\n",
      "8                      i cannot believe it is so good! did not expect such quality.\n",
      "9                     love this product! ???? fast delivery ??, amazing quality! ??\n",
      "10         to be honest, i was not expecting much, but oh my god, this is awesome!!\n",
      "11                            this is the best product i have ever used in my life!\n",
      "12    the shoes were comfortable, fitting nicely, and worked perfectly for jogging.\n",
      "Name: contractions_replaced, dtype: object\n"
     ]
    }
   ],
   "source": [
    "# Replace Contractions\n",
    "contractions_dict = {\n",
    "\"wasn't\": \"was not\",\n",
    "\"isn't\": \"is not\",\n",
    "\"aren't\": \"are not\",\n",
    "\"weren't\": \"were not\",\n",
    "\"doesn't\": \"does not\",\n",
    "\"don't\": \"do not\",\n",
    "\"didn't\": \"did not\",\n",
    "\"can't\": \"cannot\",\n",
    "\"couldn't\": \"could not\",\n",
    "\"shouldn't\": \"should not\",\n",
    "\"wouldn't\": \"would not\",\n",
    "\"won't\": \"will not\",\n",
    "\"haven't\": \"have not\",\n",
    "\"hasn't\": \"has not\",\n",
    "\"hadn't\": \"had not\",\n",
    "\"i'm\": \"i am\",\n",
    "\"you're\": \"you are\",\n",
    "\"he's\": \"he is\",\n",
    "\"she's\": \"she is\",\n",
    "\"it's\": \"it is\",\n",
    "\"we're\": \"we are\",\n",
    "\"they're\": \"they are\",\n",
    "\"i've\": \"i have\",\n",
    "\"you've\": \"you have\",\n",
    "\"we've\": \"we have\",\n",
    "\"they've\": \"they have\",\n",
    "\"i'd\": \"i would\",\n",
    "\"you'd\": \"you would\",\n",
    "\"he'd\": \"he would\",\n",
    "\"she'd\": \"she would\",\n",
    "\"we'd\": \"we would\",\n",
    "\"they'd\": \"they would\",\n",
    "\"i'll\": \"i will\",\n",
    "\"you'll\": \"you will\",\n",
    "\"he'll\": \"he will\",\n",
    "\"she'll\": \"she will\",\n",
    "\"we'll\": \"we will\",\n",
    "\"they'll\": \"they will\",\n",
    "\"let's\": \"let us\",\n",
    "\"that's\": \"that is\",\n",
    "\"who's\": \"who is\",\n",
    "\"what's\": \"what is\",\n",
    "\"where's\": \"where is\",\n",
    "\"when's\": \"when is\",\n",
    "\"why's\": \"why is\"\n",
    "}\n",
    "\n",
    "# Build the regex pattern for contractions\n",
    "escaped_contractions = [] # List to store escaped contractions\n",
    "\n",
    "for contraction in contractions_dict.keys():\n",
    "    escaped_contraction = re.escape(contraction) # Escape special characters (e.g., apostrophes)\n",
    "    escaped_contractions.append(escaped_contraction) # Add to list\n",
    "    \n",
    "# Join the escaped contractions with '|'\n",
    "joined_contractions = \"|\".join(escaped_contractions)\n",
    "\n",
    "# Create a regex pattern with word boundaries (\\b)\n",
    "contractions_pattern = r'\\b(' + joined_contractions + r')\\b'\n",
    "\n",
    "# Compile the regex\n",
    "compiled_pattern = re.compile(contractions_pattern, flags=re.IGNORECASE)\n",
    "\n",
    "# Define a function to replace contractions\n",
    "def replace_contractions(text):\n",
    "    # Function to handle each match found\n",
    "    def replace_match(match):\n",
    "        matched_word = match.group(0) # Extract matched contraction\n",
    "        lower_matched_word = matched_word.lower() # Convert to lowercase\n",
    "        expanded_form = contractions_dict[lower_matched_word] # Get full form from dictionary\n",
    "        return expanded_form # Return the expanded form\n",
    "        \n",
    "    # Apply regex substitution\n",
    "    expanded_text = compiled_pattern.sub(replace_match, text)\n",
    "\n",
    "    return expanded_text # Return modified text\n",
    "\n",
    "# Apply the function to a DataFrame column\n",
    "df[\"contractions_replaced\"] = df[\"slangs_replaced\"].apply(replace_contractions)\n",
    "\n",
    "# Display column content without truncation\n",
    "pd.set_option('display.max_colwidth', None) # Set to None for unlimited width\n",
    "print(df[\"contractions_replaced\"])"
   ]
  },
  {
   "cell_type": "code",
   "execution_count": 20,
   "id": "a3871d0e-b9e0-4c36-8038-37340a6be4df",
   "metadata": {},
   "outputs": [
    {
     "name": "stdout",
     "output_type": "stream",
     "text": [
      "0     the product arrived on time packaging was great and the quality is amazing\n",
      "1                                         this product is just amazing i love it\n",
      "2        i bought this phone for 799 and it has a 120hz display totally worth it\n",
      "3                                wow this product is awesome but a bit expensive\n",
      "4                                             the laptop works perfectly fine   \n",
      "5                                       check out the full product details here \n",
      "6                                     great purchasei am happy with this product\n",
      "7                 the battry life is excelent but the chargin cable is too short\n",
      "8                     i cannot believe it is so good did not expect such quality\n",
      "9                             love this product  fast delivery  amazing quality \n",
      "10           to be honest i was not expecting much but oh my god this is awesome\n",
      "11                          this is the best product i have ever used in my life\n",
      "12    the shoes were comfortable fitting nicely and worked perfectly for jogging\n",
      "Name: punctuations_removed, dtype: object\n"
     ]
    }
   ],
   "source": [
    "# Remove punctuations and special characters\n",
    "import string\n",
    "\n",
    "# Function to remove punctuation\n",
    "def remove_punctuation(text):\n",
    "    return text.translate(str.maketrans('', '', string.punctuation))\n",
    "\n",
    "# Apply the function to the column\n",
    "df[\"punctuations_removed\"] = df[\"contractions_replaced\"].apply(remove_punctuation)\n",
    "\n",
    "# Display column content without truncation\n",
    "pd.set_option('display.max_colwidth', None) # Set to None for unlimited width\n",
    "print(df[\"punctuations_removed\"])"
   ]
  },
  {
   "cell_type": "code",
   "execution_count": 22,
   "id": "728b1860-7028-4f19-8720-233c3d8d84b3",
   "metadata": {},
   "outputs": [
    {
     "name": "stdout",
     "output_type": "stream",
     "text": [
      "0     the product arrived on time packaging was great and the quality is amazing\n",
      "1                                         this product is just amazing i love it\n",
      "2              i bought this phone for  and it has a hz display totally worth it\n",
      "3                                wow this product is awesome but a bit expensive\n",
      "4                                             the laptop works perfectly fine   \n",
      "5                                       check out the full product details here \n",
      "6                                     great purchasei am happy with this product\n",
      "7                 the battry life is excelent but the chargin cable is too short\n",
      "8                     i cannot believe it is so good did not expect such quality\n",
      "9                             love this product  fast delivery  amazing quality \n",
      "10           to be honest i was not expecting much but oh my god this is awesome\n",
      "11                          this is the best product i have ever used in my life\n",
      "12    the shoes were comfortable fitting nicely and worked perfectly for jogging\n",
      "Name: numbers_removed, dtype: object\n"
     ]
    }
   ],
   "source": [
    "def remove_numbers(text):\n",
    "    return re.sub(r'\\d+', '', text)\n",
    "df[\"numbers_removed\"] = df[\"punctuations_removed\"].apply(remove_numbers)\n",
    "pd.set_option('display.max_colwidth', None)\n",
    "print(df[\"numbers_removed\"])"
   ]
  },
  {
   "cell_type": "code",
   "execution_count": 24,
   "id": "2b18cfe3-0889-474a-af06-585ed5914f3b",
   "metadata": {},
   "outputs": [
    {
     "name": "stdout",
     "output_type": "stream",
     "text": [
      "0     the product arrived on time packaging was great and the quality is amazing\n",
      "1                                         this product is just amazing i love it\n",
      "2              i bought this phone for  and it has a hz display totally worth it\n",
      "3                                wow this product is awesome but a bit expensive\n",
      "4                                             the laptop works perfectly fine   \n",
      "5                                       check out the full product details here \n",
      "6                                     great purchased am happy with this product\n",
      "7              the battery life is excellent but the charging cable is too short\n",
      "8                     i cannot believe it is so good did not expect such quality\n",
      "9                             love this product  fast delivery  amazing quality \n",
      "10           to be honest i was not expecting much but oh my god this is awesome\n",
      "11                          this is the best product i have ever used in my life\n",
      "12    the shoes were comfortable fitting nicely and worked perfectly for jogging\n",
      "Name: spelling_corrected, dtype: object\n"
     ]
    }
   ],
   "source": [
    "# Correct spelling mistakes \n",
    "from autocorrect import Speller  \n",
    "spell = Speller(lang='en') \n",
    "def correct_spelling(text): \n",
    "    return spell(text)  # Apply correction \n",
    "# Apply the function to the column \n",
    "df[\"spelling_corrected\"] = df[\"numbers_removed\"].apply(correct_spelling)\n",
    "# Display column content without truncation \n",
    "pd.set_option('display.max_colwidth', None)  # Set to None for unlimited width \n",
    "print(df[\"spelling_corrected\"])"
   ]
  },
  {
   "cell_type": "code",
   "execution_count": 26,
   "id": "f7fe6253-745e-4bd0-8e0b-97a7380fb2d6",
   "metadata": {},
   "outputs": [
    {
     "name": "stdout",
     "output_type": "stream",
     "text": [
      "0     product\n",
      "1     product\n",
      "2      bought\n",
      "3         wow\n",
      "4      laptop\n",
      "5       check\n",
      "6       great\n",
      "7     battery\n",
      "8      cannot\n",
      "9        love\n",
      "10     honest\n",
      "11       best\n",
      "12      shoes\n",
      "Name: stopwords_removed, dtype: object\n"
     ]
    },
    {
     "name": "stderr",
     "output_type": "stream",
     "text": [
      "[nltk_data] Downloading package stopwords to\n",
      "[nltk_data]     C:\\Users\\isyaz\\AppData\\Roaming\\nltk_data...\n",
      "[nltk_data]   Unzipping corpora\\stopwords.zip.\n"
     ]
    }
   ],
   "source": [
    "# Remove stopwords \n",
    "import nltk \n",
    "from nltk.corpus import stopwords \n",
    "nltk.download('stopwords') \n",
    "stop_words = set(stopwords.words('english')) \n",
    "def remove_stopwords(text): \n",
    "    words = text.split()  # Split text into words \n",
    "    filtered_words = []  # Create an empty list to store words after stopword removal \n",
    "    for word in words:  # Loop through each word in the list of words \n",
    "        lower_word = word.lower()  # Convert the word to lowercase for uniform comparison\n",
    "        if lower_word not in stop_words:  # Check if the lowercase word is NOT in the stopwords list \n",
    "            filtered_words.append(word)  # If it's not a stopword, add it to the filtered list \n",
    "            return \" \".join(filtered_words)  # Join words back into a sentence \n",
    "# Apply the function to the column \n",
    "df[\"stopwords_removed\"] = df[\"spelling_corrected\"].apply(remove_stopwords) \n",
    "# Display column content without truncation \n",
    "pd.set_option('display.max_colwidth', None)  # Set to None for unlimited width \n",
    "print(df[\"stopwords_removed\"])"
   ]
  },
  {
   "cell_type": "code",
   "execution_count": 28,
   "id": "4bebb91b-4217-4026-9aa9-853e63fb3c51",
   "metadata": {},
   "outputs": [
    {
     "name": "stdout",
     "output_type": "stream",
     "text": [
      "0     product\n",
      "1     product\n",
      "2      bought\n",
      "3         wow\n",
      "4      laptop\n",
      "5       check\n",
      "6       great\n",
      "7     batteri\n",
      "8      cannot\n",
      "9        love\n",
      "10     honest\n",
      "11       best\n",
      "12       shoe\n",
      "Name: stemmed_words, dtype: object\n"
     ]
    }
   ],
   "source": [
    "# Stemming - reduces words to their base root by chopping off suffixes\n",
    "from nltk.stem import PorterStemmer\n",
    "\n",
    "# Initialize the stemmer\n",
    "stemmer = PorterStemmer()\n",
    "\n",
    "# Function to apply stemming\n",
    "def stem_text(text):\n",
    "    if not isinstance(text, str):\n",
    "        return \"\"\n",
    "    words = text.split()\n",
    "    stemmed_words = [stemmer.stem(word) for word in words] # Apply stemming\n",
    "    return \" \".join(stemmed_words)\n",
    "        \n",
    "# Apply the function\n",
    "df[\"stemmed_words\"] = df[\"stopwords_removed\"].apply(stem_text)\n",
    "\n",
    "# Display column content without truncation\n",
    "pd.set_option('display.max_colwidth', None) # Set to None for unlimited width\n",
    "print(df[\"stemmed_words\"])"
   ]
  },
  {
   "cell_type": "code",
   "execution_count": 30,
   "id": "ac8b813d-fbcc-47f4-872c-cf9749438fb9",
   "metadata": {},
   "outputs": [
    {
     "name": "stderr",
     "output_type": "stream",
     "text": [
      "[nltk_data] Downloading package wordnet to\n",
      "[nltk_data]     C:\\Users\\isyaz\\AppData\\Roaming\\nltk_data...\n",
      "[nltk_data] Downloading package omw-1.4 to\n",
      "[nltk_data]     C:\\Users\\isyaz\\AppData\\Roaming\\nltk_data...\n",
      "[nltk_data] Downloading package averaged_perceptron_tagger_eng to\n",
      "[nltk_data]     C:\\Users\\isyaz\\AppData\\Roaming\\nltk_data...\n",
      "[nltk_data]   Unzipping taggers\\averaged_perceptron_tagger_eng.zip.\n",
      "[nltk_data] Downloading package punkt_tab to\n",
      "[nltk_data]     C:\\Users\\isyaz\\AppData\\Roaming\\nltk_data...\n",
      "[nltk_data]   Unzipping tokenizers\\punkt_tab.zip.\n"
     ]
    },
    {
     "name": "stdout",
     "output_type": "stream",
     "text": [
      "0     product\n",
      "1     product\n",
      "2      bought\n",
      "3         wow\n",
      "4      laptop\n",
      "5       check\n",
      "6       great\n",
      "7     battery\n",
      "8     can not\n",
      "9        love\n",
      "10     honest\n",
      "11       best\n",
      "12       shoe\n",
      "Name: lemmatized, dtype: object\n"
     ]
    }
   ],
   "source": [
    "import nltk \n",
    "nltk.download('wordnet')\n",
    "nltk.download('omw-1.4')\n",
    "nltk.download('averaged_perceptron_tagger_eng')\n",
    "nltk.download('punkt_tab')                       \n",
    "# For tokenization \n",
    "# Lemmatization - reduces words to their base dictionary form (lemma) \n",
    "from nltk.stem import WordNetLemmatizer \n",
    "from nltk.corpus import wordnet \n",
    "from nltk.tokenize import word_tokenize \n",
    "from nltk import pos_tag\n",
    "lemmatizer = WordNetLemmatizer() \n",
    " \n",
    "def get_wordnet_pos(nltk_tag): \n",
    "    if nltk_tag.startswith('J'):  # Adjective \n",
    "        return wordnet.ADJ \n",
    "    elif nltk_tag.startswith('V'):  # Verb \n",
    "        return wordnet.VERB \n",
    "    elif nltk_tag.startswith('N'):  # Noun \n",
    "        return wordnet.NOUN \n",
    "    elif nltk_tag.startswith('R'):  # Adverb \n",
    "        return wordnet.ADV \n",
    "    else: \n",
    "        return wordnet.NOUN  # Default to noun \n",
    " \n",
    "# Function to lemmatize text with POS tagging \n",
    "def lemmatize_text(text): \n",
    "    if not isinstance(text, str):  # Ensure input is a string \n",
    "        return \"\" \n",
    " \n",
    "    words = word_tokenize(text)  # Tokenize text into words \n",
    "    pos_tags = pos_tag(words)  # Get POS tags \n",
    "     \n",
    "    # Lemmatize each word with its correct POS tag\n",
    "    lemmatized_words = [lemmatizer.lemmatize(word, get_wordnet_pos(tag)) for word, tag in pos_tags] \n",
    "    return \" \".join(lemmatized_words)  # Join words back into a sentence \n",
    "# Apply the function to the column \n",
    "df[\"lemmatized\"] = df[\"stopwords_removed\"].apply(lemmatize_text) \n",
    "# Display column content without truncation \n",
    "pd.set_option('display.max_colwidth', None)  # Set to None for unlimited width \n",
    "print(df[\"lemmatized\"])"
   ]
  },
  {
   "cell_type": "code",
   "execution_count": 31,
   "id": "9d47e95c-309b-4ef5-9968-1eb4dfa32ab6",
   "metadata": {},
   "outputs": [],
   "source": [
    "df.to_csv(\"Processed_Reviews.csv\", index=False)"
   ]
  },
  {
   "cell_type": "code",
   "execution_count": null,
   "id": "dc50940d-79ef-4d77-bbb6-dcd64b3a939c",
   "metadata": {},
   "outputs": [],
   "source": []
  }
 ],
 "metadata": {
  "kernelspec": {
   "display_name": "Python [conda env:base] *",
   "language": "python",
   "name": "conda-base-py"
  },
  "language_info": {
   "codemirror_mode": {
    "name": "ipython",
    "version": 3
   },
   "file_extension": ".py",
   "mimetype": "text/x-python",
   "name": "python",
   "nbconvert_exporter": "python",
   "pygments_lexer": "ipython3",
   "version": "3.12.7"
  }
 },
 "nbformat": 4,
 "nbformat_minor": 5
}
