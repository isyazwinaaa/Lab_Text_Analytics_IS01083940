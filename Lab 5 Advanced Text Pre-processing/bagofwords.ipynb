{
 "cells": [
  {
   "cell_type": "code",
   "execution_count": 1,
   "id": "41ad0bbf-136c-46bf-a424-f3332f671b90",
   "metadata": {},
   "outputs": [],
   "source": [
    "#Import necessary libraries\n",
    "from collections import Counter #count word occurrences \n",
    "import pandas as pd "
   ]
  },
  {
   "cell_type": "code",
   "execution_count": 3,
   "id": "eb6e667b-6155-4f9a-b5b2-f2689693ff49",
   "metadata": {},
   "outputs": [],
   "source": [
    "#Load pre-processed file: \n",
    "file_path = \"Processed_Reviews.csv\" \n",
    "df = pd.read_csv(file_path)"
   ]
  },
  {
   "cell_type": "code",
   "execution_count": 5,
   "id": "01b58936-b6ae-4485-8663-b7caf8be14dc",
   "metadata": {},
   "outputs": [],
   "source": [
    "#Extract the tokenized text data:\n",
    "tokenized_reviews = df['tokenized'].dropna().apply(eval) "
   ]
  },
  {
   "cell_type": "code",
   "execution_count": 7,
   "id": "d4ba3deb-07b3-463e-8411-15a53f8430ce",
   "metadata": {},
   "outputs": [],
   "source": [
    "#List all unique words\n",
    "all_words = [word for review in tokenized_reviews for word in review] \n",
    "unique_words = list(set(all_words))"
   ]
  },
  {
   "cell_type": "code",
   "execution_count": 9,
   "id": "f571cb18-e354-4517-a4ba-a1b920a87ca0",
   "metadata": {},
   "outputs": [],
   "source": [
    "#Create word frequency table\n",
    "word_freq = Counter(all_words) \n",
    "sorted_word_freq = dict(sorted(word_freq.items(), key=lambda item: item[1], reverse=True)) "
   ]
  },
  {
   "cell_type": "code",
   "execution_count": 11,
   "id": "bd4556b4-10a0-48a3-b873-086f5200bb3d",
   "metadata": {},
   "outputs": [],
   "source": [
    "#Create document vectors\n",
    "document_vectors = [] \n",
    "for review in tokenized_reviews: \n",
    "    document_vector = [1 if word in review else 0 for word in sorted_word_freq.keys()] \n",
    "    document_vectors.append(document_vector)"
   ]
  },
  {
   "cell_type": "code",
   "execution_count": 13,
   "id": "6aa81f4d-05ae-4c29-bff0-98fa7a1da289",
   "metadata": {},
   "outputs": [],
   "source": [
    "#Convert document vectors to DataFrame\n",
    "doc_vectors_df = pd.DataFrame(document_vectors, columns=sorted_word_freq.keys()) "
   ]
  },
  {
   "cell_type": "code",
   "execution_count": 15,
   "id": "f3c62f24-fed0-42f1-ab3e-107579615028",
   "metadata": {},
   "outputs": [],
   "source": [
    "#Save document vectors to CSV file\n",
    "doc_vectors_df.to_csv(\"document_vectors.csv\", index=False) "
   ]
  },
  {
   "cell_type": "code",
   "execution_count": 17,
   "id": "1b3feeb1-6d97-43a7-8fe8-6c0e0def0e4c",
   "metadata": {},
   "outputs": [
    {
     "name": "stdout",
     "output_type": "stream",
     "text": [
      "Word Frequency Table:\n",
      "           Word  Frequency\n",
      "0       product          7\n",
      "1       quality          3\n",
      "2         great          2\n",
      "3       amazing          2\n",
      "4          love          2\n",
      "5       awesome          2\n",
      "6          work          2\n",
      "7     perfectly          2\n",
      "8          life          2\n",
      "9        expect          2\n",
      "10       arrive          1\n",
      "11         time          1\n",
      "12    packaging          1\n",
      "13        amaze          1\n",
      "14          buy          1\n",
      "15        phone          1\n",
      "16           hz          1\n",
      "17      display          1\n",
      "18      totally          1\n",
      "19        worth          1\n",
      "20          wow          1\n",
      "21          bit          1\n",
      "22    expensive          1\n",
      "23       laptop          1\n",
      "24         fine          1\n",
      "25        check          1\n",
      "26         full          1\n",
      "27       detail          1\n",
      "28     purchase          1\n",
      "29        happy          1\n",
      "30      battery          1\n",
      "31    excellent          1\n",
      "32       charge          1\n",
      "33        cable          1\n",
      "34        short          1\n",
      "35          can          1\n",
      "36          not          1\n",
      "37      believe          1\n",
      "38         good          1\n",
      "39         fast          1\n",
      "40     delivery          1\n",
      "41       honest          1\n",
      "42         much          1\n",
      "43           oh          1\n",
      "44          god          1\n",
      "45         best          1\n",
      "46         ever          1\n",
      "47          use          1\n",
      "48         shoe          1\n",
      "49  comfortable          1\n",
      "50          fit          1\n",
      "51       nicely          1\n",
      "52          jog          1\n"
     ]
    }
   ],
   "source": [
    "#Display word frequency table\n",
    "word_freq_df = pd.DataFrame(list(sorted_word_freq.items()), columns=[\"Word\", \"Frequency\"]) \n",
    "print(\"Word Frequency Table:\") \n",
    "print(word_freq_df) "
   ]
  },
  {
   "cell_type": "code",
   "execution_count": null,
   "id": "3685b0ec-e4af-4304-bda9-0214c84be760",
   "metadata": {},
   "outputs": [],
   "source": []
  }
 ],
 "metadata": {
  "kernelspec": {
   "display_name": "Python [conda env:base] *",
   "language": "python",
   "name": "conda-base-py"
  },
  "language_info": {
   "codemirror_mode": {
    "name": "ipython",
    "version": 3
   },
   "file_extension": ".py",
   "mimetype": "text/x-python",
   "name": "python",
   "nbconvert_exporter": "python",
   "pygments_lexer": "ipython3",
   "version": "3.12.7"
  }
 },
 "nbformat": 4,
 "nbformat_minor": 5
}
